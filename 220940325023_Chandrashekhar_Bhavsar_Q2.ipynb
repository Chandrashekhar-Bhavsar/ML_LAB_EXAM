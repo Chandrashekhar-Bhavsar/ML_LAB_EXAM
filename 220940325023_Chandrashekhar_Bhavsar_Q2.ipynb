{
  "nbformat": 4,
  "nbformat_minor": 0,
  "metadata": {
    "colab": {
      "provenance": []
    },
    "kernelspec": {
      "name": "python3",
      "display_name": "Python 3"
    },
    "language_info": {
      "name": "python"
    }
  },
  "cells": [
    {
      "cell_type": "code",
      "execution_count": 19,
      "metadata": {
        "id": "5ab-5Zk7K-J6"
      },
      "outputs": [],
      "source": [
        "import pandas as pd\n",
        "import numpy as np\n",
        "import matplotlib.pyplot as plt"
      ]
    },
    {
      "cell_type": "code",
      "source": [
        "import os"
      ],
      "metadata": {
        "id": "2PnClTq3VxPj"
      },
      "execution_count": 63,
      "outputs": []
    },
    {
      "cell_type": "code",
      "source": [
        "os.getcwd()"
      ],
      "metadata": {
        "colab": {
          "base_uri": "https://localhost:8080/",
          "height": 36
        },
        "id": "RTfULRLJVz3N",
        "outputId": "9d0c7e23-f82a-4327-ea0a-1a11146c9fc7"
      },
      "execution_count": 65,
      "outputs": [
        {
          "output_type": "execute_result",
          "data": {
            "text/plain": [
              "'/content'"
            ],
            "application/vnd.google.colaboratory.intrinsic+json": {
              "type": "string"
            }
          },
          "metadata": {},
          "execution_count": 65
        }
      ]
    },
    {
      "cell_type": "code",
      "source": [
        "df=pd.read_excel('data_final.xlsx') #Uploading data File"
      ],
      "metadata": {
        "id": "dPOUiN7BLOcW"
      },
      "execution_count": 66,
      "outputs": []
    },
    {
      "cell_type": "code",
      "source": [
        "df.head()"
      ],
      "metadata": {
        "colab": {
          "base_uri": "https://localhost:8080/",
          "height": 206
        },
        "id": "aj2xQVJKLXYz",
        "outputId": "ac02059a-ce44-4126-d622-68cff82ef248"
      },
      "execution_count": 67,
      "outputs": [
        {
          "output_type": "execute_result",
          "data": {
            "text/plain": [
              "   observation  feature   price\n",
              "0         0.44     0.68  511.14\n",
              "1         0.99     0.23  717.10\n",
              "2         0.84     0.29  607.91\n",
              "3         0.28     0.45  270.40\n",
              "4         0.07     0.83  289.88"
            ],
            "text/html": [
              "\n",
              "  <div id=\"df-37808c9a-3a10-45da-8045-e322d9668a65\">\n",
              "    <div class=\"colab-df-container\">\n",
              "      <div>\n",
              "<style scoped>\n",
              "    .dataframe tbody tr th:only-of-type {\n",
              "        vertical-align: middle;\n",
              "    }\n",
              "\n",
              "    .dataframe tbody tr th {\n",
              "        vertical-align: top;\n",
              "    }\n",
              "\n",
              "    .dataframe thead th {\n",
              "        text-align: right;\n",
              "    }\n",
              "</style>\n",
              "<table border=\"1\" class=\"dataframe\">\n",
              "  <thead>\n",
              "    <tr style=\"text-align: right;\">\n",
              "      <th></th>\n",
              "      <th>observation</th>\n",
              "      <th>feature</th>\n",
              "      <th>price</th>\n",
              "    </tr>\n",
              "  </thead>\n",
              "  <tbody>\n",
              "    <tr>\n",
              "      <th>0</th>\n",
              "      <td>0.44</td>\n",
              "      <td>0.68</td>\n",
              "      <td>511.14</td>\n",
              "    </tr>\n",
              "    <tr>\n",
              "      <th>1</th>\n",
              "      <td>0.99</td>\n",
              "      <td>0.23</td>\n",
              "      <td>717.10</td>\n",
              "    </tr>\n",
              "    <tr>\n",
              "      <th>2</th>\n",
              "      <td>0.84</td>\n",
              "      <td>0.29</td>\n",
              "      <td>607.91</td>\n",
              "    </tr>\n",
              "    <tr>\n",
              "      <th>3</th>\n",
              "      <td>0.28</td>\n",
              "      <td>0.45</td>\n",
              "      <td>270.40</td>\n",
              "    </tr>\n",
              "    <tr>\n",
              "      <th>4</th>\n",
              "      <td>0.07</td>\n",
              "      <td>0.83</td>\n",
              "      <td>289.88</td>\n",
              "    </tr>\n",
              "  </tbody>\n",
              "</table>\n",
              "</div>\n",
              "      <button class=\"colab-df-convert\" onclick=\"convertToInteractive('df-37808c9a-3a10-45da-8045-e322d9668a65')\"\n",
              "              title=\"Convert this dataframe to an interactive table.\"\n",
              "              style=\"display:none;\">\n",
              "        \n",
              "  <svg xmlns=\"http://www.w3.org/2000/svg\" height=\"24px\"viewBox=\"0 0 24 24\"\n",
              "       width=\"24px\">\n",
              "    <path d=\"M0 0h24v24H0V0z\" fill=\"none\"/>\n",
              "    <path d=\"M18.56 5.44l.94 2.06.94-2.06 2.06-.94-2.06-.94-.94-2.06-.94 2.06-2.06.94zm-11 1L8.5 8.5l.94-2.06 2.06-.94-2.06-.94L8.5 2.5l-.94 2.06-2.06.94zm10 10l.94 2.06.94-2.06 2.06-.94-2.06-.94-.94-2.06-.94 2.06-2.06.94z\"/><path d=\"M17.41 7.96l-1.37-1.37c-.4-.4-.92-.59-1.43-.59-.52 0-1.04.2-1.43.59L10.3 9.45l-7.72 7.72c-.78.78-.78 2.05 0 2.83L4 21.41c.39.39.9.59 1.41.59.51 0 1.02-.2 1.41-.59l7.78-7.78 2.81-2.81c.8-.78.8-2.07 0-2.86zM5.41 20L4 18.59l7.72-7.72 1.47 1.35L5.41 20z\"/>\n",
              "  </svg>\n",
              "      </button>\n",
              "      \n",
              "  <style>\n",
              "    .colab-df-container {\n",
              "      display:flex;\n",
              "      flex-wrap:wrap;\n",
              "      gap: 12px;\n",
              "    }\n",
              "\n",
              "    .colab-df-convert {\n",
              "      background-color: #E8F0FE;\n",
              "      border: none;\n",
              "      border-radius: 50%;\n",
              "      cursor: pointer;\n",
              "      display: none;\n",
              "      fill: #1967D2;\n",
              "      height: 32px;\n",
              "      padding: 0 0 0 0;\n",
              "      width: 32px;\n",
              "    }\n",
              "\n",
              "    .colab-df-convert:hover {\n",
              "      background-color: #E2EBFA;\n",
              "      box-shadow: 0px 1px 2px rgba(60, 64, 67, 0.3), 0px 1px 3px 1px rgba(60, 64, 67, 0.15);\n",
              "      fill: #174EA6;\n",
              "    }\n",
              "\n",
              "    [theme=dark] .colab-df-convert {\n",
              "      background-color: #3B4455;\n",
              "      fill: #D2E3FC;\n",
              "    }\n",
              "\n",
              "    [theme=dark] .colab-df-convert:hover {\n",
              "      background-color: #434B5C;\n",
              "      box-shadow: 0px 1px 3px 1px rgba(0, 0, 0, 0.15);\n",
              "      filter: drop-shadow(0px 1px 2px rgba(0, 0, 0, 0.3));\n",
              "      fill: #FFFFFF;\n",
              "    }\n",
              "  </style>\n",
              "\n",
              "      <script>\n",
              "        const buttonEl =\n",
              "          document.querySelector('#df-37808c9a-3a10-45da-8045-e322d9668a65 button.colab-df-convert');\n",
              "        buttonEl.style.display =\n",
              "          google.colab.kernel.accessAllowed ? 'block' : 'none';\n",
              "\n",
              "        async function convertToInteractive(key) {\n",
              "          const element = document.querySelector('#df-37808c9a-3a10-45da-8045-e322d9668a65');\n",
              "          const dataTable =\n",
              "            await google.colab.kernel.invokeFunction('convertToInteractive',\n",
              "                                                     [key], {});\n",
              "          if (!dataTable) return;\n",
              "\n",
              "          const docLinkHtml = 'Like what you see? Visit the ' +\n",
              "            '<a target=\"_blank\" href=https://colab.research.google.com/notebooks/data_table.ipynb>data table notebook</a>'\n",
              "            + ' to learn more about interactive tables.';\n",
              "          element.innerHTML = '';\n",
              "          dataTable['output_type'] = 'display_data';\n",
              "          await google.colab.output.renderOutput(dataTable, element);\n",
              "          const docLink = document.createElement('div');\n",
              "          docLink.innerHTML = docLinkHtml;\n",
              "          element.appendChild(docLink);\n",
              "        }\n",
              "      </script>\n",
              "    </div>\n",
              "  </div>\n",
              "  "
            ]
          },
          "metadata": {},
          "execution_count": 67
        }
      ]
    },
    {
      "cell_type": "code",
      "source": [
        "df.info() #Getting information about the data set"
      ],
      "metadata": {
        "colab": {
          "base_uri": "https://localhost:8080/"
        },
        "id": "hmBgSch8OVtY",
        "outputId": "f94acaa8-6868-46a7-8b0e-641b57bcbfd4"
      },
      "execution_count": 68,
      "outputs": [
        {
          "output_type": "stream",
          "name": "stdout",
          "text": [
            "<class 'pandas.core.frame.DataFrame'>\n",
            "RangeIndex: 100 entries, 0 to 99\n",
            "Data columns (total 3 columns):\n",
            " #   Column       Non-Null Count  Dtype  \n",
            "---  ------       --------------  -----  \n",
            " 0   observation  100 non-null    float64\n",
            " 1   feature      100 non-null    float64\n",
            " 2   price        100 non-null    float64\n",
            "dtypes: float64(3)\n",
            "memory usage: 2.5 KB\n"
          ]
        }
      ]
    },
    {
      "cell_type": "markdown",
      "source": [
        "#Observation on data"
      ],
      "metadata": {
        "id": "393eM2KYNk2w"
      }
    },
    {
      "cell_type": "code",
      "source": [
        "import seaborn as sns"
      ],
      "metadata": {
        "id": "ANc1mpgxLu-U"
      },
      "execution_count": 69,
      "outputs": []
    },
    {
      "cell_type": "code",
      "source": [
        "sns.distplot(df[\"observation\"])\n",
        "print(df[\"observation\"].skew())\n",
        "print(df[\"observation\"].kurt())"
      ],
      "metadata": {
        "colab": {
          "base_uri": "https://localhost:8080/",
          "height": 368
        },
        "id": "fwvB4g2XNuaT",
        "outputId": "923c6daa-5eea-4a73-ab24-fa29b855c98f"
      },
      "execution_count": 71,
      "outputs": [
        {
          "output_type": "stream",
          "name": "stdout",
          "text": [
            "-0.17010152303525727\n",
            "-1.178222036544501\n"
          ]
        },
        {
          "output_type": "stream",
          "name": "stderr",
          "text": [
            "/usr/local/lib/python3.8/dist-packages/seaborn/distributions.py:2619: FutureWarning: `distplot` is a deprecated function and will be removed in a future version. Please adapt your code to use either `displot` (a figure-level function with similar flexibility) or `histplot` (an axes-level function for histograms).\n",
            "  warnings.warn(msg, FutureWarning)\n"
          ]
        },
        {
          "output_type": "display_data",
          "data": {
            "text/plain": [
              "<Figure size 432x288 with 1 Axes>"
            ],
            "image/png": "[encoded data removed]"
          },
          "metadata": {
            "needs_background": "light"
          }
        }
      ]
    },
    {
      "cell_type": "markdown",
      "source": [
        "INSIGHTT:\n",
        "1. From the given data and ploted graph it is cleared that the data is equaly distributed\n",
        "2. as we can see there is not any null value avilable"
      ],
      "metadata": {
        "id": "hf44HjJ6OBXY"
      }
    },
    {
      "cell_type": "markdown",
      "source": [
        "#Finding outtlier"
      ],
      "metadata": {
        "id": "hFZgpIBoPTna"
      }
    },
    {
      "cell_type": "code",
      "source": [
        "plt.boxplot(df[\"observation\"])"
      ],
      "metadata": {
        "colab": {
          "base_uri": "https://localhost:8080/",
          "height": 404
        },
        "id": "_vPTJM-CPTPI",
        "outputId": "47ba26b1-82e2-4ab9-af3d-f3a4c9d71efd"
      },
      "execution_count": 73,
      "outputs": [
        {
          "output_type": "execute_result",
          "data": {
            "text/plain": [
              "{'whiskers': [<matplotlib.lines.Line2D at 0x7f393929ed30>,\n",
              "  <matplotlib.lines.Line2D at 0x7f393929e1f0>],\n",
              " 'caps': [<matplotlib.lines.Line2D at 0x7f393929e5b0>,\n",
              "  <matplotlib.lines.Line2D at 0x7f3939372220>],\n",
              " 'boxes': [<matplotlib.lines.Line2D at 0x7f393929e880>],\n",
              " 'medians': [<matplotlib.lines.Line2D at 0x7f3939372b50>],\n",
              " 'fliers': [<matplotlib.lines.Line2D at 0x7f3939372940>],\n",
              " 'means': []}"
            ]
          },
          "metadata": {},
          "execution_count": 73
        },
        {
          "output_type": "display_data",
          "data": {
            "text/plain": [
              "<Figure size 432x288 with 1 Axes>"
            ],
            "image/png": "[encoded data removed]"
          },
          "metadata": {
            "needs_background": "light"
          }
        }
      ]
    },
    {
      "cell_type": "markdown",
      "source": [
        "INSIGHT:\n",
        "1. From the box plot it is clear that the column observation does not contains any outlier\n",
        "2. so there is no need for data cleaning"
      ],
      "metadata": {
        "id": "xcEcTZskPd0R"
      }
    },
    {
      "cell_type": "code",
      "source": [
        "sns.distplot(df[\"feature\"])\n",
        "print(df[\"feature\"].skew())\n",
        "print(df[\"feature\"].kurt())"
      ],
      "metadata": {
        "colab": {
          "base_uri": "https://localhost:8080/",
          "height": 368
        },
        "id": "Tv05w-hoWUWP",
        "outputId": "d1f06264-c23e-416f-dd6d-b14c6105a6b7"
      },
      "execution_count": 74,
      "outputs": [
        {
          "output_type": "stream",
          "name": "stderr",
          "text": [
            "/usr/local/lib/python3.8/dist-packages/seaborn/distributions.py:2619: FutureWarning: `distplot` is a deprecated function and will be removed in a future version. Please adapt your code to use either `displot` (a figure-level function with similar flexibility) or `histplot` (an axes-level function for histograms).\n",
            "  warnings.warn(msg, FutureWarning)\n"
          ]
        },
        {
          "output_type": "stream",
          "name": "stdout",
          "text": [
            "0.05603993223379983\n",
            "-1.258874551769168\n"
          ]
        },
        {
          "output_type": "display_data",
          "data": {
            "text/plain": [
              "<Figure size 432x288 with 1 Axes>"
            ],
            "image/png": "[encoded data removed]"
          },
          "metadata": {
            "needs_background": "light"
          }
        }
      ]
    },
    {
      "cell_type": "markdown",
      "source": [
        "INSIGHTT:\n",
        "1. From the given data and ploted graph it is cleared that the data is equaly distributed\n",
        "2. as we can see there is not any null value avilable"
      ],
      "metadata": {
        "id": "XCbeGri_gb_g"
      }
    },
    {
      "cell_type": "code",
      "source": [
        "plt.boxplot(df[\"feature\"])"
      ],
      "metadata": {
        "colab": {
          "base_uri": "https://localhost:8080/",
          "height": 404
        },
        "id": "tPz6b1MMWeVU",
        "outputId": "01859df4-abc1-40e2-c462-5236db66b984"
      },
      "execution_count": 75,
      "outputs": [
        {
          "output_type": "execute_result",
          "data": {
            "text/plain": [
              "{'whiskers': [<matplotlib.lines.Line2D at 0x7f393911e970>,\n",
              "  <matplotlib.lines.Line2D at 0x7f393911ecd0>],\n",
              " 'caps': [<matplotlib.lines.Line2D at 0x7f393912a070>,\n",
              "  <matplotlib.lines.Line2D at 0x7f393912a3d0>],\n",
              " 'boxes': [<matplotlib.lines.Line2D at 0x7f393911e610>],\n",
              " 'medians': [<matplotlib.lines.Line2D at 0x7f393912a730>],\n",
              " 'fliers': [<matplotlib.lines.Line2D at 0x7f393912aa30>],\n",
              " 'means': []}"
            ]
          },
          "metadata": {},
          "execution_count": 75
        },
        {
          "output_type": "display_data",
          "data": {
            "text/plain": [
              "<Figure size 432x288 with 1 Axes>"
            ],
            "image/png": "[encoded data removed]"
          },
          "metadata": {
            "needs_background": "light"
          }
        }
      ]
    },
    {
      "cell_type": "markdown",
      "source": [
        "Insight:\n",
        "1. As there are not any ouutlier present in this feature so need of data cleaning is reguired"
      ],
      "metadata": {
        "id": "9_DYoQYFghQV"
      }
    },
    {
      "cell_type": "code",
      "source": [
        "sns.distplot(df[\"price\"])\n",
        "print(df[\"price\"].skew())\n",
        "print(df[\"price\"].kurt())"
      ],
      "metadata": {
        "colab": {
          "base_uri": "https://localhost:8080/",
          "height": 368
        },
        "id": "oew7pSo6N-Nj",
        "outputId": "582d971f-e16b-4c77-fcab-f204cc5fbf2a"
      },
      "execution_count": 77,
      "outputs": [
        {
          "output_type": "stream",
          "name": "stderr",
          "text": [
            "/usr/local/lib/python3.8/dist-packages/seaborn/distributions.py:2619: FutureWarning: `distplot` is a deprecated function and will be removed in a future version. Please adapt your code to use either `displot` (a figure-level function with similar flexibility) or `histplot` (an axes-level function for histograms).\n",
            "  warnings.warn(msg, FutureWarning)\n"
          ]
        },
        {
          "output_type": "stream",
          "name": "stdout",
          "text": [
            "0.7770100203624751\n",
            "0.07685117614441195\n"
          ]
        },
        {
          "output_type": "display_data",
          "data": {
            "text/plain": [
              "<Figure size 432x288 with 1 Axes>"
            ],
            "image/png": "[encoded data removed]"
          },
          "metadata": {
            "needs_background": "light"
          }
        }
      ]
    },
    {
      "cell_type": "markdown",
      "source": [
        "Insights:\n",
        "1. Here also if we see the grasph the graph is equaly distributed \n",
        "2.  And there is not any null value present in Feature"
      ],
      "metadata": {
        "id": "e_Go5vgYgtNT"
      }
    },
    {
      "cell_type": "code",
      "source": [
        "plt.boxplot(df[\"price\"])"
      ],
      "metadata": {
        "colab": {
          "base_uri": "https://localhost:8080/",
          "height": 404
        },
        "id": "LCejqUw_g6LV",
        "outputId": "337144b8-c200-4545-d280-dd28a60d0b29"
      },
      "execution_count": 166,
      "outputs": [
        {
          "output_type": "execute_result",
          "data": {
            "text/plain": [
              "{'whiskers': [<matplotlib.lines.Line2D at 0x7f3939257eb0>,\n",
              "  <matplotlib.lines.Line2D at 0x7f3939257d00>],\n",
              " 'caps': [<matplotlib.lines.Line2D at 0x7f3939257c40>,\n",
              "  <matplotlib.lines.Line2D at 0x7f39393b7ca0>],\n",
              " 'boxes': [<matplotlib.lines.Line2D at 0x7f3939257700>],\n",
              " 'medians': [<matplotlib.lines.Line2D at 0x7f39393b7f40>],\n",
              " 'fliers': [<matplotlib.lines.Line2D at 0x7f3939352e80>],\n",
              " 'means': []}"
            ]
          },
          "metadata": {},
          "execution_count": 166
        },
        {
          "output_type": "display_data",
          "data": {
            "text/plain": [
              "<Figure size 432x288 with 1 Axes>"
            ],
            "image/png": "[encoded data removed]"
          },
          "metadata": {
            "needs_background": "light"
          }
        }
      ]
    },
    {
      "cell_type": "markdown",
      "source": [
        "Insight:\n",
        "1. We can see there is not any outlier present in Feature\n",
        "2. No need of data cleaning is reaguird"
      ],
      "metadata": {
        "id": "PPnhI4gug-5E"
      }
    },
    {
      "cell_type": "markdown",
      "source": [
        "#Model Build Porcess:\n",
        "\n"
      ],
      "metadata": {
        "id": "zAudLVpthIN5"
      }
    },
    {
      "cell_type": "markdown",
      "source": [
        "1. Seprating dependetn and independent variale"
      ],
      "metadata": {
        "id": "AryO_50ghOvn"
      }
    },
    {
      "cell_type": "code",
      "source": [
        "X=df.drop(\"price\",axis=1) #Independent variable"
      ],
      "metadata": {
        "id": "t4zwBs8nQIZX"
      },
      "execution_count": 116,
      "outputs": []
    },
    {
      "cell_type": "code",
      "source": [
        "Y=df[\"price\"] #Dependent Variable"
      ],
      "metadata": {
        "id": "-wuFqrhUQSs_"
      },
      "execution_count": 117,
      "outputs": []
    },
    {
      "cell_type": "code",
      "source": [
        "from sklearn.model_selection import train_test_split\n",
        "X_train,X_test,y_train,y_test=train_test_split(X,Y,test_size=0.25) #Calling and applying train test split here I am using 75-25% split pattern"
      ],
      "metadata": {
        "id": "HNKfXDDbPt_U"
      },
      "execution_count": 118,
      "outputs": []
    },
    {
      "cell_type": "code",
      "source": [
        "from sklearn.linear_model import LinearRegression\n",
        "model=LinearRegression()\n",
        "out_mod=model.fit(X_train,y_train) #appling linear regression model by passing training dataaset to it"
      ],
      "metadata": {
        "id": "m4BzF-aYQYmg"
      },
      "execution_count": 120,
      "outputs": []
    },
    {
      "cell_type": "code",
      "source": [
        "y_pred=out_mod.predict(X_test) # Preddicting the output of trrainiung dataset"
      ],
      "metadata": {
        "id": "8-njvzPWY4HG"
      },
      "execution_count": 121,
      "outputs": []
    },
    {
      "cell_type": "code",
      "source": [
        "plt.scatter(X_train['observation'],y_train,color='red') "
      ],
      "metadata": {
        "colab": {
          "base_uri": "https://localhost:8080/",
          "height": 282
        },
        "id": "_g0S9AIQcK6Z",
        "outputId": "2ac4ab7d-d836-4ead-a024-b361133b09e3"
      },
      "execution_count": 164,
      "outputs": [
        {
          "output_type": "execute_result",
          "data": {
            "text/plain": [
              "<matplotlib.collections.PathCollection at 0x7f3938c4a460>"
            ]
          },
          "metadata": {},
          "execution_count": 164
        },
        {
          "output_type": "display_data",
          "data": {
            "text/plain": [
              "<Figure size 432x288 with 1 Axes>"
            ],
            "image/png": "[encoded data removed]"
          },
          "metadata": {
            "needs_background": "light"
          }
        }
      ]
    },
    {
      "cell_type": "markdown",
      "source": [
        "Insight:\n",
        "1. Here we can see the points are scatter uniformaly\n",
        "2. if we tries to plot straint line it will result in underfit condition\n",
        "3. so to overcome from this we have to bend out line to qudratic\n",
        "4. so that We have to use polynomial Regression"
      ],
      "metadata": {
        "id": "J4O9at9Lhw7v"
      }
    },
    {
      "cell_type": "code",
      "source": [
        "plt.scatter(X_train['observation'],y_train,color='red')\n",
        "plt.plot(X_train,out_mod.predict(X_train),color='blue')"
      ],
      "metadata": {
        "colab": {
          "base_uri": "https://localhost:8080/",
          "height": 301
        },
        "id": "hdv_XpsBQq0v",
        "outputId": "299dee1d-11a7-451d-bcf7-03c3593a13e0"
      },
      "execution_count": 165,
      "outputs": [
        {
          "output_type": "execute_result",
          "data": {
            "text/plain": [
              "[<matplotlib.lines.Line2D at 0x7f39390e50a0>,\n",
              " <matplotlib.lines.Line2D at 0x7f39390e5f70>]"
            ]
          },
          "metadata": {},
          "execution_count": 165
        },
        {
          "output_type": "display_data",
          "data": {
            "text/plain": [
              "<Figure size 432x288 with 1 Axes>"
            ],
            "image/png": "[encoded data removed]"
          },
          "metadata": {
            "needs_background": "light"
          }
        }
      ]
    },
    {
      "cell_type": "markdown",
      "source": [
        "iNSIGHT:\n",
        "1. This is just for visulation\n",
        "2. here i have poassed train data to predit tthe output\n",
        "3. so that it is giving  overfiting result"
      ],
      "metadata": {
        "id": "3G15f9CciEjD"
      }
    },
    {
      "cell_type": "code",
      "source": [
        "from sklearn.preprocessing import PolynomialFeatures\n",
        "poly_regression= PolynomialFeatures(degree=1)\n",
        "x_poly= poly_regression.fit_transform(X_train)\n",
        "model1=LinearRegression()\n",
        "model2=model1.fit(x_poly,y_train) #Calling polynoial regreession and giving degree to 1 as it is mentioned in probelm statment it should be less thant 4"
      ],
      "metadata": {
        "id": "qKok51JdQ8lI"
      },
      "execution_count": 143,
      "outputs": []
    },
    {
      "cell_type": "code",
      "source": [
        "x_poly"
      ],
      "metadata": {
        "colab": {
          "base_uri": "https://localhost:8080/"
        },
        "id": "dd_EoOgMavL6",
        "outputId": "e2305c7c-0243-4750-8983-692780ea71c1"
      },
      "execution_count": 144,
      "outputs": [
        {
          "output_type": "execute_result",
          "data": {
            "text/plain": [
              "array([[1.  , 0.57, 0.43],\n",
              "       [1.  , 0.89, 0.68],\n",
              "       [1.  , 0.78, 0.85],\n",
              "       [1.  , 0.91, 0.53],\n",
              "       [1.  , 0.3 , 0.08],\n",
              "       [1.  , 0.21, 0.22],\n",
              "       [1.  , 0.09, 0.97],\n",
              "       [1.  , 0.7 , 0.57],\n",
              "       [1.  , 0.63, 0.58],\n",
              "       [1.  , 0.77, 0.36],\n",
              "       [1.  , 0.44, 0.64],\n",
              "       [1.  , 0.22, 0.46],\n",
              "       [1.  , 0.17, 0.15],\n",
              "       [1.  , 0.79, 0.97],\n",
              "       [1.  , 0.31, 0.87],\n",
              "       [1.  , 0.38, 0.4 ],\n",
              "       [1.  , 0.99, 0.91],\n",
              "       [1.  , 0.78, 0.69],\n",
              "       [1.  , 0.48, 0.76],\n",
              "       [1.  , 0.62, 0.17],\n",
              "       [1.  , 0.26, 0.62],\n",
              "       [1.  , 0.15, 0.96],\n",
              "       [1.  , 0.3 , 0.99],\n",
              "       [1.  , 0.42, 0.94],\n",
              "       [1.  , 0.83, 0.64],\n",
              "       [1.  , 0.28, 0.46],\n",
              "       [1.  , 0.35, 0.85],\n",
              "       [1.  , 0.58, 0.62],\n",
              "       [1.  , 0.47, 0.23],\n",
              "       [1.  , 0.9 , 0.42],\n",
              "       [1.  , 0.27, 0.95],\n",
              "       [1.  , 0.19, 0.62],\n",
              "       [1.  , 0.47, 0.65],\n",
              "       [1.  , 0.79, 0.12],\n",
              "       [1.  , 0.99, 0.23],\n",
              "       [1.  , 0.12, 0.65],\n",
              "       [1.  , 0.41, 0.15],\n",
              "       [1.  , 0.92, 0.03],\n",
              "       [1.  , 0.47, 0.66],\n",
              "       [1.  , 0.66, 0.8 ],\n",
              "       [1.  , 0.23, 0.26],\n",
              "       [1.  , 0.93, 0.44],\n",
              "       [1.  , 0.88, 0.4 ],\n",
              "       [1.  , 0.73, 0.92],\n",
              "       [1.  , 0.43, 0.89],\n",
              "       [1.  , 0.9 , 0.94],\n",
              "       [1.  , 0.65, 0.43],\n",
              "       [1.  , 0.84, 0.6 ],\n",
              "       [1.  , 0.23, 0.87],\n",
              "       [1.  , 0.06, 0.42],\n",
              "       [1.  , 0.6 , 0.69],\n",
              "       [1.  , 0.28, 0.45],\n",
              "       [1.  , 0.79, 0.94],\n",
              "       [1.  , 0.31, 0.15],\n",
              "       [1.  , 0.69, 0.07],\n",
              "       [1.  , 0.41, 0.93],\n",
              "       [1.  , 0.72, 0.34],\n",
              "       [1.  , 0.07, 0.83],\n",
              "       [1.  , 0.02, 0.28],\n",
              "       [1.  , 0.1 , 0.24],\n",
              "       [1.  , 0.85, 0.49],\n",
              "       [1.  , 0.41, 0.06],\n",
              "       [1.  , 0.6 , 0.02],\n",
              "       [1.  , 0.99, 0.13],\n",
              "       [1.  , 0.84, 0.29],\n",
              "       [1.  , 0.65, 0.17],\n",
              "       [1.  , 0.45, 0.87],\n",
              "       [1.  , 0.68, 0.13],\n",
              "       [1.  , 0.57, 0.69],\n",
              "       [1.  , 0.26, 0.23],\n",
              "       [1.  , 0.01, 0.11],\n",
              "       [1.  , 0.01, 0.03],\n",
              "       [1.  , 0.2 , 0.4 ],\n",
              "       [1.  , 0.34, 0.5 ],\n",
              "       [1.  , 0.43, 0.12]])"
            ]
          },
          "metadata": {},
          "execution_count": 144
        }
      ]
    },
    {
      "cell_type": "code",
      "source": [
        "y_pred2=model2.predict(x_poly) #Predicitng output by passing test data"
      ],
      "metadata": {
        "id": "1AW6JWSNW5xo"
      },
      "execution_count": 146,
      "outputs": []
    },
    {
      "cell_type": "code",
      "source": [
        "c=model2.coef_\n",
        "c #FIndding coefifcient of line"
      ],
      "metadata": {
        "colab": {
          "base_uri": "https://localhost:8080/"
        },
        "id": "70ZI6nbyRoqf",
        "outputId": "ec6eff59-b41d-4ddf-d1fc-89596f486316"
      },
      "execution_count": 147,
      "outputs": [
        {
          "output_type": "execute_result",
          "data": {
            "text/plain": [
              "array([  0.        , 840.84452574, 610.31840356])"
            ]
          },
          "metadata": {},
          "execution_count": 147
        }
      ]
    },
    {
      "cell_type": "code",
      "source": [
        "m=model2.intercept_\n",
        "m #Finding out intecption poiint iof line"
      ],
      "metadata": {
        "colab": {
          "base_uri": "https://localhost:8080/"
        },
        "id": "KdgOtXUFRvp0",
        "outputId": "2ead77d1-0fbc-429f-cc6c-2d6cb6824381"
      },
      "execution_count": 167,
      "outputs": [
        {
          "output_type": "execute_result",
          "data": {
            "text/plain": [
              "-222.15526758392593"
            ]
          },
          "metadata": {},
          "execution_count": 167
        }
      ]
    },
    {
      "cell_type": "code",
      "source": [
        "from sklearn import metrics"
      ],
      "metadata": {
        "id": "EBNgaUN6R5YO"
      },
      "execution_count": 149,
      "outputs": []
    },
    {
      "cell_type": "code",
      "source": [
        "metrics.mean_absolute_error(y_pred,y_test) #$here I have calculated score of meas abosulte score"
      ],
      "metadata": {
        "colab": {
          "base_uri": "https://localhost:8080/"
        },
        "id": "o2sArN5nR-Zu",
        "outputId": "cfb7f4c9-6744-4235-b728-4cc3a541ef2a"
      },
      "execution_count": 153,
      "outputs": [
        {
          "output_type": "execute_result",
          "data": {
            "text/plain": [
              "73.36813459643335"
            ]
          },
          "metadata": {},
          "execution_count": 153
        }
      ]
    },
    {
      "cell_type": "code",
      "source": [
        "metrics.mean_squared_error(y_pred,y_test) #calculating mean squred error"
      ],
      "metadata": {
        "colab": {
          "base_uri": "https://localhost:8080/"
        },
        "id": "gDBRHJdmSASj",
        "outputId": "4be9c7b6-d165-4d1d-fbab-ed257f6bd852"
      },
      "execution_count": 154,
      "outputs": [
        {
          "output_type": "execute_result",
          "data": {
            "text/plain": [
              "11868.343317003115"
            ]
          },
          "metadata": {},
          "execution_count": 154
        }
      ]
    },
    {
      "cell_type": "code",
      "source": [
        "metrics.r2_score(y_test,y_pred) # as I am getting R2 score as 0.86*100 so that i My model is 92% accuracte which is good>>>"
      ],
      "metadata": {
        "colab": {
          "base_uri": "https://localhost:8080/"
        },
        "id": "gE0OgX6zivgH",
        "outputId": "cd5f4822-75a9-40d4-b90d-02c5e2794dac"
      },
      "execution_count": 168,
      "outputs": [
        {
          "output_type": "execute_result",
          "data": {
            "text/plain": [
              "0.9282120972783994"
            ]
          },
          "metadata": {},
          "execution_count": 168
        }
      ]
    }
  ]
}